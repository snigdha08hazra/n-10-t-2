{
 "cells": [
  {
   "cell_type": "code",
   "execution_count": 1,
   "id": "7ced57ef",
   "metadata": {},
   "outputs": [],
   "source": [
    "from qiskit.quantum_info import Statevector, Operator\n",
    "from qiskit import QuantumCircuit, Aer, execute\n",
    "import numpy as np\n",
    "import math\n",
    "import matplotlib.pyplot as pl\n",
    "import random"
   ]
  },
  {
   "cell_type": "markdown",
   "id": "3f391b16",
   "metadata": {},
   "source": [
    "To plot coherence l1 norm (l1), relative entropy(S) and success probability(P) as a funciton of number of iteration(noi) taking the Grover's operator as G = DO"
   ]
  },
  {
   "cell_type": "markdown",
   "id": "bb4eb2d5",
   "metadata": {},
   "source": [
    "O = ( I-2|ψ⟩⟨ψ| ) and D = ( 2|ψ1⟩⟨ψ1|-I )"
   ]
  },
  {
   "attachments": {
    "image-3.png": {
     "image/png": "[encoded data removed]"
    },
    "image-4.png": {
     "image/png": "[encoded data removed]"
    },
    "image-5.png": {
     "image/png": "[encoded data removed]"
    },
    "image-6.png": {
     "image/png": "[encoded data removed]"
    },
    "image-7.png": {
     "image/png": "[encoded data removed]"
    },
    "image-8.png": {
     "image/png": "[encoded data removed]"
    },
    "image.png": {
     "image/png": "[encoded data removed]"
    }
   },
   "cell_type": "markdown",
   "id": "318c0daf",
   "metadata": {},
   "source": [
    "l1 norm of coherence is given by![image.png](attachment:image.png)\n",
    "\n",
    "relative entropy is given by![image-8.png](attachment:image-8.png) with \n",
    "\n",
    "![image-3.png](attachment:image-3.png)   ;   ![image-4.png](attachment:image-4.png)   ;   ![image-5.png](attachment:image-5.png)   ;   ![image-6.png](attachment:image-6.png)   \n",
    "Success probability is determined by the formula![image-7.png](attachment:image-7.png)\n",
    "with t = number of target states and j = iteration number"
   ]
  },
  {
   "cell_type": "code",
   "execution_count": 27,
   "id": "3904289c",
   "metadata": {},
   "outputs": [
    {
     "name": "stdout",
     "output_type": "stream",
     "text": [
      "noi =  15\n",
      "Optimal noi =  17\n",
      "target =  [ 68. 465.]\n",
      "phi =  [3.141592653589793]\n",
      "x =  [(-1+1.2246467991473532e-16j)]\n"
     ]
    }
   ],
   "source": [
    "n = 10     #no. of qubits\n",
    "N = 2**n   #dimension of matrix\n",
    "t = 2      #no. of target states\n",
    "length = list(range(n))\n",
    "noi = 15   #taking same number of iteration for all cases\n",
    "noi_opt = math.floor(math.sqrt(N/t) * np.pi / 4)   #optimal No of iterations\n",
    "print(\"noi = \", noi)\n",
    "print(\"Optimal noi = \",noi_opt)\n",
    "\n",
    "#to set target states by randomly generating them\n",
    "target = np.zeros(t)    #to store target states\n",
    "count = 0\n",
    "flag = 0\n",
    "i = 0\n",
    "while(True):\n",
    "    #to generate a random integer for target position\n",
    "    a = random.randint(0,N-1)\n",
    "    \n",
    "    #checking if that number has already been chosen previously as target state\n",
    "    for j in range(count):\n",
    "        if(target[j] == a):\n",
    "            flag = 1  #value is present in the target array\n",
    "            \n",
    "    #to store new value in target array\n",
    "    if(flag == 0):\n",
    "        #to store in count position of target array\n",
    "        target[count] = a\n",
    "        #updating count (position) value\n",
    "        count += 1\n",
    "        #checking for further iteration of while loop\n",
    "        if(count == t):\n",
    "            break\n",
    "print(\"target = \",target)\n",
    "\n",
    "phi = [np.pi]    #setting at a particular value\n",
    "print(\"phi = \",phi)\n",
    "\n",
    "x = [complex(np.cos(a), np.sin(a)) for a in phi]\n",
    "print(\"x = \",x)\n",
    "\n",
    "#array to store coherence values after each suboperation in every grover's iteration\n",
    "l1 = np.zeros(noi)    #to store l1 norm of coherence values after each iteration\n",
    "S  = np.zeros(noi)    #to store relative entropy values after each iteration\n",
    "P  = np.zeros(noi)    #to store success probability after each iteration\n",
    "x_axis = list(range(noi))    #to store iteration number"
   ]
  },
  {
   "cell_type": "code",
   "execution_count": 28,
   "id": "cb292786",
   "metadata": {
    "scrolled": true
   },
   "outputs": [
    {
     "name": "stdout",
     "output_type": "stream",
     "text": [
      "======================================== FOR ϕ =  180.0 ========================================\n"
     ]
    },
    {
     "data": {
      "text/plain": [
       "'initialised |ψ0⟩'"
      ]
     },
     "metadata": {},
     "output_type": "display_data"
    },
    {
     "data": {
      "text/latex": [
       "$$ |0000000000\\rangle$$"
      ],
      "text/plain": [
       "<IPython.core.display.Latex object>"
      ]
     },
     "metadata": {},
     "output_type": "display_data"
    },
    {
     "name": "stdout",
     "output_type": "stream",
     "text": [
      "coherence of |ψ0⟩ =  0.0\n"
     ]
    },
    {
     "data": {
      "text/plain": [
       "'applied Hadamard to all |ψ1⟩'"
      ]
     },
     "metadata": {},
     "output_type": "display_data"
    },
    {
     "data": {
      "text/latex": [
       "$$\\frac{1}{32} |0000000000\\rangle+\\frac{1}{32} |0000000001\\rangle+\\frac{1}{32} |0000000010\\rangle+\\frac{1}{32} |0000000011\\rangle+\\frac{1}{32} |0000000100\\rangle+\\frac{1}{32} |0000000101\\rangle + \\ldots +\\frac{1}{32} |1111111011\\rangle+\\frac{1}{32} |1111111100\\rangle+\\frac{1}{32} |1111111101\\rangle+\\frac{1}{32} |1111111110\\rangle+\\frac{1}{32} |1111111111\\rangle$$"
      ],
      "text/plain": [
       "<IPython.core.display.Latex object>"
      ]
     },
     "metadata": {},
     "output_type": "display_data"
    },
    {
     "name": "stdout",
     "output_type": "stream",
     "text": [
      "coherence of |ψ1⟩ =  1023.0000000000001\n",
      "-------- 1  ITERATION--------\n"
     ]
    },
    {
     "data": {
      "text/plain": [
       "'applied O operator to |ψ2⟩'"
      ]
     },
     "metadata": {},
     "output_type": "display_data"
    },
    {
     "data": {
      "text/latex": [
       "$$\\frac{1}{32} |0000000000\\rangle+\\frac{1}{32} |0000000001\\rangle+\\frac{1}{32} |0000000010\\rangle+\\frac{1}{32} |0000000011\\rangle+\\frac{1}{32} |0000000100\\rangle+\\frac{1}{32} |0000000101\\rangle + \\ldots +\\frac{1}{32} |1111111011\\rangle+\\frac{1}{32} |1111111100\\rangle+\\frac{1}{32} |1111111101\\rangle+\\frac{1}{32} |1111111110\\rangle+\\frac{1}{32} |1111111111\\rangle$$"
      ],
      "text/plain": [
       "<IPython.core.display.Latex object>"
      ]
     },
     "metadata": {},
     "output_type": "display_data"
    },
    {
     "data": {
      "text/plain": [
       "'applied D operator to |ψ2⟩'"
      ]
     },
     "metadata": {},
     "output_type": "display_data"
    },
    {
     "data": {
      "text/latex": [
       "$$0.031005859375 |0000000000\\rangle+0.031005859375 |0000000001\\rangle+0.031005859375 |0000000010\\rangle+0.031005859375 |0000000011\\rangle+0.031005859375 |0000000100\\rangle+0.031005859375 |0000000101\\rangle + \\ldots +0.031005859375 |1111111011\\rangle+0.031005859375 |1111111100\\rangle+0.031005859375 |1111111101\\rangle+0.031005859375 |1111111110\\rangle+0.031005859375 |1111111111\\rangle$$"
      ],
      "text/plain": [
       "<IPython.core.display.Latex object>"
      ]
     },
     "metadata": {},
     "output_type": "display_data"
    },
    {
     "name": "stdout",
     "output_type": "stream",
     "text": [
      "coherence of |ψ2⟩ =  1015.015625\n",
      "l1 norm =  1015.015625\n",
      "relative entropy =  9.950834542707106\n",
      "-------- 2  ITERATION--------\n"
     ]
    },
    {
     "data": {
      "text/plain": [
       "'applied O operator to |ψ2⟩'"
      ]
     },
     "metadata": {},
     "output_type": "display_data"
    },
    {
     "data": {
      "text/latex": [
       "$$0.031005859375 |0000000000\\rangle+0.031005859375 |0000000001\\rangle+0.031005859375 |0000000010\\rangle+0.031005859375 |0000000011\\rangle+0.031005859375 |0000000100\\rangle+0.031005859375 |0000000101\\rangle + \\ldots +0.031005859375 |1111111011\\rangle+0.031005859375 |1111111100\\rangle+0.031005859375 |1111111101\\rangle+0.031005859375 |1111111110\\rangle+0.031005859375 |1111111111\\rangle$$"
      ],
      "text/plain": [
       "<IPython.core.display.Latex object>"
      ]
     },
     "metadata": {},
     "output_type": "display_data"
    },
    {
     "data": {
      "text/plain": [
       "'applied D operator to |ψ2⟩'"
      ]
     },
     "metadata": {},
     "output_type": "display_data"
    },
    {
     "data": {
      "text/latex": [
       "$$0.030519485474 |0000000000\\rangle+0.030519485474 |0000000001\\rangle+0.030519485474 |0000000010\\rangle+0.030519485474 |0000000011\\rangle+0.030519485474 |0000000100\\rangle+0.030519485474 |0000000101\\rangle + \\ldots +0.030519485474 |1111111011\\rangle+0.030519485474 |1111111100\\rangle+0.030519485474 |1111111101\\rangle+0.030519485474 |1111111110\\rangle+0.030519485474 |1111111111\\rangle$$"
      ],
      "text/plain": [
       "<IPython.core.display.Latex object>"
      ]
     },
     "metadata": {},
     "output_type": "display_data"
    },
    {
     "name": "stdout",
     "output_type": "stream",
     "text": [
      "coherence of |ψ2⟩ =  991.3115243911744\n",
      "l1 norm =  991.3115243911744\n",
      "relative entropy =  9.842829304715018\n",
      "-------- 3  ITERATION--------\n"
     ]
    },
    {
     "data": {
      "text/plain": [
       "'applied O operator to |ψ2⟩'"
      ]
     },
     "metadata": {},
     "output_type": "display_data"
    },
    {
     "data": {
      "text/latex": [
       "$$0.030519485474 |0000000000\\rangle+0.030519485474 |0000000001\\rangle+0.030519485474 |0000000010\\rangle+0.030519485474 |0000000011\\rangle+0.030519485474 |0000000100\\rangle+0.030519485474 |0000000101\\rangle + \\ldots +0.030519485474 |1111111011\\rangle+0.030519485474 |1111111100\\rangle+0.030519485474 |1111111101\\rangle+0.030519485474 |1111111110\\rangle+0.030519485474 |1111111111\\rangle$$"
      ],
      "text/plain": [
       "<IPython.core.display.Latex object>"
      ]
     },
     "metadata": {},
     "output_type": "display_data"
    },
    {
     "data": {
      "text/plain": [
       "'applied D operator to |ψ2⟩'"
      ]
     },
     "metadata": {},
     "output_type": "display_data"
    },
    {
     "data": {
      "text/latex": [
       "$$0.029794678092 |0000000000\\rangle+0.029794678092 |0000000001\\rangle+0.029794678092 |0000000010\\rangle+0.029794678092 |0000000011\\rangle+0.029794678092 |0000000100\\rangle+0.029794678092 |0000000101\\rangle + \\ldots +0.029794678092 |1111111011\\rangle+0.029794678092 |1111111100\\rangle+0.029794678092 |1111111101\\rangle+0.029794678092 |1111111110\\rangle+0.029794678092 |1111111111\\rangle$$"
      ],
      "text/plain": [
       "<IPython.core.display.Latex object>"
      ]
     },
     "metadata": {},
     "output_type": "display_data"
    },
    {
     "name": "stdout",
     "output_type": "stream",
     "text": [
      "coherence of |ψ2⟩ =  952.6270045616533\n",
      "l1 norm =  952.6270045616533\n",
      "relative entropy =  9.661262029305428\n",
      "-------- 4  ITERATION--------\n"
     ]
    },
    {
     "data": {
      "text/plain": [
       "'applied O operator to |ψ2⟩'"
      ]
     },
     "metadata": {},
     "output_type": "display_data"
    },
    {
     "data": {
      "text/latex": [
       "$$0.029794678092 |0000000000\\rangle+0.029794678092 |0000000001\\rangle+0.029794678092 |0000000010\\rangle+0.029794678092 |0000000011\\rangle+0.029794678092 |0000000100\\rangle+0.029794678092 |0000000101\\rangle + \\ldots +0.029794678092 |1111111011\\rangle+0.029794678092 |1111111100\\rangle+0.029794678092 |1111111101\\rangle+0.029794678092 |1111111110\\rangle+0.029794678092 |1111111111\\rangle$$"
      ],
      "text/plain": [
       "<IPython.core.display.Latex object>"
      ]
     },
     "metadata": {},
     "output_type": "display_data"
    },
    {
     "data": {
      "text/plain": [
       "'applied D operator to |ψ2⟩'"
      ]
     },
     "metadata": {},
     "output_type": "display_data"
    },
    {
     "data": {
      "text/latex": [
       "$$0.028837099788 |0000000000\\rangle+0.028837099788 |0000000001\\rangle+0.028837099788 |0000000010\\rangle+0.028837099788 |0000000011\\rangle+0.028837099788 |0000000100\\rangle+0.028837099788 |0000000101\\rangle + \\ldots +0.028837099788 |1111111011\\rangle+0.028837099788 |1111111100\\rangle+0.028837099788 |1111111101\\rangle+0.028837099788 |1111111110\\rangle+0.028837099788 |1111111111\\rangle$$"
      ],
      "text/plain": [
       "<IPython.core.display.Latex object>"
      ]
     },
     "metadata": {},
     "output_type": "display_data"
    },
    {
     "name": "stdout",
     "output_type": "stream",
     "text": [
      "coherence of |ψ2⟩ =  900.1685955726443\n",
      "l1 norm =  900.1685955726443\n",
      "relative entropy =  9.404343429316532\n",
      "-------- 5  ITERATION--------\n"
     ]
    },
    {
     "data": {
      "text/plain": [
       "'applied O operator to |ψ2⟩'"
      ]
     },
     "metadata": {},
     "output_type": "display_data"
    },
    {
     "data": {
      "text/latex": [
       "$$0.028837099788 |0000000000\\rangle+0.028837099788 |0000000001\\rangle+0.028837099788 |0000000010\\rangle+0.028837099788 |0000000011\\rangle+0.028837099788 |0000000100\\rangle+0.028837099788 |0000000101\\rangle + \\ldots +0.028837099788 |1111111011\\rangle+0.028837099788 |1111111100\\rangle+0.028837099788 |1111111101\\rangle+0.028837099788 |1111111110\\rangle+0.028837099788 |1111111111\\rangle$$"
      ],
      "text/plain": [
       "<IPython.core.display.Latex object>"
      ]
     },
     "metadata": {},
     "output_type": "display_data"
    },
    {
     "data": {
      "text/plain": [
       "'applied D operator to |ψ2⟩'"
      ]
     },
     "metadata": {},
     "output_type": "display_data"
    },
    {
     "data": {
      "text/latex": [
       "$$0.027654231641 |0000000000\\rangle+0.027654231641 |0000000001\\rangle+0.027654231641 |0000000010\\rangle+0.027654231641 |0000000011\\rangle+0.027654231641 |0000000100\\rangle+0.027654231641 |0000000101\\rangle + \\ldots +0.027654231641 |1111111011\\rangle+0.027654231641 |1111111100\\rangle+0.027654231641 |1111111101\\rangle+0.027654231641 |1111111110\\rangle+0.027654231641 |1111111111\\rangle$$"
      ],
      "text/plain": [
       "<IPython.core.display.Latex object>"
      ]
     },
     "metadata": {},
     "output_type": "display_data"
    },
    {
     "name": "stdout",
     "output_type": "stream",
     "text": [
      "coherence of |ψ2⟩ =  835.5724209516577\n",
      "l1 norm =  835.5724209516577\n",
      "relative entropy =  9.074715067185487\n",
      "-------- 6  ITERATION--------\n"
     ]
    },
    {
     "data": {
      "text/plain": [
       "'applied O operator to |ψ2⟩'"
      ]
     },
     "metadata": {},
     "output_type": "display_data"
    },
    {
     "data": {
      "text/latex": [
       "$$0.027654231641 |0000000000\\rangle+0.027654231641 |0000000001\\rangle+0.027654231641 |0000000010\\rangle+0.027654231641 |0000000011\\rangle+0.027654231641 |0000000100\\rangle+0.027654231641 |0000000101\\rangle + \\ldots +0.027654231641 |1111111011\\rangle+0.027654231641 |1111111100\\rangle+0.027654231641 |1111111101\\rangle+0.027654231641 |1111111110\\rangle+0.027654231641 |1111111111\\rangle$$"
      ],
      "text/plain": [
       "<IPython.core.display.Latex object>"
      ]
     },
     "metadata": {},
     "output_type": "display_data"
    },
    {
     "data": {
      "text/plain": [
       "'applied D operator to |ψ2⟩'"
      ]
     },
     "metadata": {},
     "output_type": "display_data"
    },
    {
     "data": {
      "text/latex": [
       "$$0.02625531481 |0000000000\\rangle+0.02625531481 |0000000001\\rangle+0.02625531481 |0000000010\\rangle+0.02625531481 |0000000011\\rangle+0.02625531481 |0000000100\\rangle+0.02625531481 |0000000101\\rangle + \\ldots +0.02625531481 |1111111011\\rangle+0.02625531481 |1111111100\\rangle+0.02625531481 |1111111101\\rangle+0.02625531481 |1111111110\\rangle+0.02625531481 |1111111111\\rangle$$"
      ],
      "text/plain": [
       "<IPython.core.display.Latex object>"
      ]
     },
     "metadata": {},
     "output_type": "display_data"
    },
    {
     "name": "stdout",
     "output_type": "stream",
     "text": [
      "coherence of |ψ2⟩ =  760.8531685010025\n",
      "l1 norm =  760.8531685010025\n",
      "relative entropy =  8.678647436135561\n",
      "-------- 7  ITERATION--------\n"
     ]
    },
    {
     "data": {
      "text/plain": [
       "'applied O operator to |ψ2⟩'"
      ]
     },
     "metadata": {},
     "output_type": "display_data"
    },
    {
     "data": {
      "text/latex": [
       "$$0.02625531481 |0000000000\\rangle+0.02625531481 |0000000001\\rangle+0.02625531481 |0000000010\\rangle+0.02625531481 |0000000011\\rangle+0.02625531481 |0000000100\\rangle+0.02625531481 |0000000101\\rangle + \\ldots +0.02625531481 |1111111011\\rangle+0.02625531481 |1111111100\\rangle+0.02625531481 |1111111101\\rangle+0.02625531481 |1111111110\\rangle+0.02625531481 |1111111111\\rangle$$"
      ],
      "text/plain": [
       "<IPython.core.display.Latex object>"
      ]
     },
     "metadata": {},
     "output_type": "display_data"
    },
    {
     "data": {
      "text/plain": [
       "'applied D operator to |ψ2⟩'"
      ]
     },
     "metadata": {},
     "output_type": "display_data"
    },
    {
     "data": {
      "text/latex": [
       "$$0.024651278332 |0000000000\\rangle+0.024651278332 |0000000001\\rangle+0.024651278332 |0000000010\\rangle+0.024651278332 |0000000011\\rangle+0.024651278332 |0000000100\\rangle+0.024651278332 |0000000101\\rangle + \\ldots +0.024651278332 |1111111011\\rangle+0.024651278332 |1111111100\\rangle+0.024651278332 |1111111101\\rangle+0.024651278332 |1111111110\\rangle+0.024651278332 |1111111111\\rangle$$"
      ],
      "text/plain": [
       "<IPython.core.display.Latex object>"
      ]
     },
     "metadata": {},
     "output_type": "display_data"
    },
    {
     "name": "stdout",
     "output_type": "stream",
     "text": [
      "coherence of |ψ2⟩ =  678.3412543548106\n",
      "l1 norm =  678.3412543548106\n",
      "relative entropy =  8.22552807179229\n",
      "-------- 8  ITERATION--------\n"
     ]
    },
    {
     "data": {
      "text/plain": [
       "'applied O operator to |ψ2⟩'"
      ]
     },
     "metadata": {},
     "output_type": "display_data"
    },
    {
     "data": {
      "text/latex": [
       "$$0.024651278332 |0000000000\\rangle+0.024651278332 |0000000001\\rangle+0.024651278332 |0000000010\\rangle+0.024651278332 |0000000011\\rangle+0.024651278332 |0000000100\\rangle+0.024651278332 |0000000101\\rangle + \\ldots +0.024651278332 |1111111011\\rangle+0.024651278332 |1111111100\\rangle+0.024651278332 |1111111101\\rangle+0.024651278332 |1111111110\\rangle+0.024651278332 |1111111111\\rangle$$"
      ],
      "text/plain": [
       "<IPython.core.display.Latex object>"
      ]
     },
     "metadata": {},
     "output_type": "display_data"
    },
    {
     "data": {
      "text/plain": [
       "'applied D operator to |ψ2⟩'"
      ]
     },
     "metadata": {},
     "output_type": "display_data"
    },
    {
     "data": {
      "text/latex": [
       "$$0.022854653743 |0000000000\\rangle+0.022854653743 |0000000001\\rangle+0.022854653743 |0000000010\\rangle+0.022854653743 |0000000011\\rangle+0.022854653743 |0000000100\\rangle+0.022854653743 |0000000101\\rangle + \\ldots +0.022854653743 |1111111011\\rangle+0.022854653743 |1111111100\\rangle+0.022854653743 |1111111101\\rangle+0.022854653743 |1111111110\\rangle+0.022854653743 |1111111111\\rangle$$"
      ],
      "text/plain": [
       "<IPython.core.display.Latex object>"
      ]
     },
     "metadata": {},
     "output_type": "display_data"
    },
    {
     "name": "stdout",
     "output_type": "stream",
     "text": [
      "coherence of |ψ2⟩ =  590.6101397214672\n",
      "l1 norm =  590.6101397214672\n",
      "relative entropy =  7.727441496247268\n",
      "-------- 9  ITERATION--------\n"
     ]
    },
    {
     "data": {
      "text/plain": [
       "'applied O operator to |ψ2⟩'"
      ]
     },
     "metadata": {},
     "output_type": "display_data"
    },
    {
     "data": {
      "text/latex": [
       "$$0.022854653743 |0000000000\\rangle+0.022854653743 |0000000001\\rangle+0.022854653743 |0000000010\\rangle+0.022854653743 |0000000011\\rangle+0.022854653743 |0000000100\\rangle+0.022854653743 |0000000101\\rangle + \\ldots +0.022854653743 |1111111011\\rangle+0.022854653743 |1111111100\\rangle+0.022854653743 |1111111101\\rangle+0.022854653743 |1111111110\\rangle+0.022854653743 |1111111111\\rangle$$"
      ],
      "text/plain": [
       "<IPython.core.display.Latex object>"
      ]
     },
     "metadata": {},
     "output_type": "display_data"
    },
    {
     "data": {
      "text/plain": [
       "'applied D operator to |ψ2⟩'"
      ]
     },
     "metadata": {},
     "output_type": "display_data"
    },
    {
     "data": {
      "text/latex": [
       "$$0.02087947717 |0000000000\\rangle+0.02087947717 |0000000001\\rangle+0.02087947717 |0000000010\\rangle+0.02087947717 |0000000011\\rangle+0.02087947717 |0000000100\\rangle+0.02087947717 |0000000101\\rangle + \\ldots +0.02087947717 |1111111011\\rangle+0.02087947717 |1111111100\\rangle+0.02087947717 |1111111101\\rangle+0.02087947717 |1111111110\\rangle+0.02087947717 |1111111111\\rangle$$"
      ],
      "text/plain": [
       "<IPython.core.display.Latex object>"
      ]
     },
     "metadata": {},
     "output_type": "display_data"
    },
    {
     "name": "stdout",
     "output_type": "stream",
     "text": [
      "coherence of |ψ2⟩ =  500.3960672256295\n",
      "l1 norm =  500.3960672256295\n",
      "relative entropy =  7.198772600029261\n",
      "-------- 10  ITERATION--------\n"
     ]
    },
    {
     "data": {
      "text/plain": [
       "'applied O operator to |ψ2⟩'"
      ]
     },
     "metadata": {},
     "output_type": "display_data"
    },
    {
     "data": {
      "text/latex": [
       "$$0.02087947717 |0000000000\\rangle+0.02087947717 |0000000001\\rangle+0.02087947717 |0000000010\\rangle+0.02087947717 |0000000011\\rangle+0.02087947717 |0000000100\\rangle+0.02087947717 |0000000101\\rangle + \\ldots +0.02087947717 |1111111011\\rangle+0.02087947717 |1111111100\\rangle+0.02087947717 |1111111101\\rangle+0.02087947717 |1111111110\\rangle+0.02087947717 |1111111111\\rangle$$"
      ],
      "text/plain": [
       "<IPython.core.display.Latex object>"
      ]
     },
     "metadata": {},
     "output_type": "display_data"
    },
    {
     "data": {
      "text/plain": [
       "'applied D operator to |ψ2⟩'"
      ]
     },
     "metadata": {},
     "output_type": "display_data"
    },
    {
     "data": {
      "text/latex": [
       "$$0.018741179683 |0000000000\\rangle+0.018741179683 |0000000001\\rangle+0.018741179683 |0000000010\\rangle+0.018741179683 |0000000011\\rangle+0.018741179683 |0000000100\\rangle+0.018741179683 |0000000101\\rangle + \\ldots +0.018741179683 |1111111011\\rangle+0.018741179683 |1111111100\\rangle+0.018741179683 |1111111101\\rangle+0.018741179683 |1111111110\\rangle+0.018741179683 |1111111111\\rangle$$"
      ],
      "text/plain": [
       "<IPython.core.display.Latex object>"
      ]
     },
     "metadata": {},
     "output_type": "display_data"
    },
    {
     "name": "stdout",
     "output_type": "stream",
     "text": [
      "coherence of |ψ2⟩ =  410.51272044773987\n",
      "l1 norm =  410.51272044773987\n",
      "relative entropy =  6.655814999420824\n",
      "-------- 11  ITERATION--------\n"
     ]
    },
    {
     "data": {
      "text/plain": [
       "'applied O operator to |ψ2⟩'"
      ]
     },
     "metadata": {},
     "output_type": "display_data"
    },
    {
     "data": {
      "text/latex": [
       "$$0.018741179683 |0000000000\\rangle+0.018741179683 |0000000001\\rangle+0.018741179683 |0000000010\\rangle+0.018741179683 |0000000011\\rangle+0.018741179683 |0000000100\\rangle+0.018741179683 |0000000101\\rangle + \\ldots +0.018741179683 |1111111011\\rangle+0.018741179683 |1111111100\\rangle+0.018741179683 |1111111101\\rangle+0.018741179683 |1111111110\\rangle+0.018741179683 |1111111111\\rangle$$"
      ],
      "text/plain": [
       "<IPython.core.display.Latex object>"
      ]
     },
     "metadata": {},
     "output_type": "display_data"
    },
    {
     "data": {
      "text/plain": [
       "'applied D operator to |ψ2⟩'"
      ]
     },
     "metadata": {},
     "output_type": "display_data"
    },
    {
     "data": {
      "text/latex": [
       "$$0.016456466729 |0000000000\\rangle+0.016456466729 |0000000001\\rangle+0.016456466729 |0000000010\\rangle+0.016456466729 |0000000011\\rangle+0.016456466729 |0000000100\\rangle+0.016456466729 |0000000101\\rangle + \\ldots +0.016456466729 |1111111011\\rangle+0.016456466729 |1111111100\\rangle+0.016456466729 |1111111101\\rangle+0.016456466729 |1111111110\\rangle+0.016456466729 |1111111111\\rangle$$"
      ],
      "text/plain": [
       "<IPython.core.display.Latex object>"
      ]
     },
     "metadata": {},
     "output_type": "display_data"
    },
    {
     "name": "stdout",
     "output_type": "stream",
     "text": [
      "coherence of |ψ2⟩ =  323.76346788145844\n",
      "l1 norm =  323.76346788145844\n",
      "relative entropy =  6.116390098319625\n",
      "-------- 12  ITERATION--------\n"
     ]
    },
    {
     "data": {
      "text/plain": [
       "'applied O operator to |ψ2⟩'"
      ]
     },
     "metadata": {},
     "output_type": "display_data"
    },
    {
     "data": {
      "text/latex": [
       "$$0.016456466729 |0000000000\\rangle+0.016456466729 |0000000001\\rangle+0.016456466729 |0000000010\\rangle+0.016456466729 |0000000011\\rangle+0.016456466729 |0000000100\\rangle+0.016456466729 |0000000101\\rangle + \\ldots +0.016456466729 |1111111011\\rangle+0.016456466729 |1111111100\\rangle+0.016456466729 |1111111101\\rangle+0.016456466729 |1111111110\\rangle+0.016456466729 |1111111111\\rangle$$"
      ],
      "text/plain": [
       "<IPython.core.display.Latex object>"
      ]
     },
     "metadata": {},
     "output_type": "display_data"
    },
    {
     "data": {
      "text/plain": [
       "'applied D operator to |ψ2⟩'"
      ]
     },
     "metadata": {},
     "output_type": "display_data"
    },
    {
     "data": {
      "text/latex": [
       "$$0.014043187628 |0000000000\\rangle+0.014043187628 |0000000001\\rangle+0.014043187628 |0000000010\\rangle+0.014043187628 |0000000011\\rangle+0.014043187628 |0000000100\\rangle+0.014043187628 |0000000101\\rangle + \\ldots +0.014043187628 |1111111011\\rangle+0.014043187628 |1111111100\\rangle+0.014043187628 |1111111101\\rangle+0.014043187628 |1111111110\\rangle+0.014043187628 |1111111111\\rangle$$"
      ],
      "text/plain": [
       "<IPython.core.display.Latex object>"
      ]
     },
     "metadata": {},
     "output_type": "display_data"
    },
    {
     "name": "stdout",
     "output_type": "stream",
     "text": [
      "coherence of |ψ2⟩ =  242.85392893083318\n",
      "l1 norm =  242.85392893083318\n",
      "relative entropy =  5.599500964100469\n",
      "-------- 13  ITERATION--------\n"
     ]
    },
    {
     "data": {
      "text/plain": [
       "'applied O operator to |ψ2⟩'"
      ]
     },
     "metadata": {},
     "output_type": "display_data"
    },
    {
     "data": {
      "text/latex": [
       "$$0.014043187628 |0000000000\\rangle+0.014043187628 |0000000001\\rangle+0.014043187628 |0000000010\\rangle+0.014043187628 |0000000011\\rangle+0.014043187628 |0000000100\\rangle+0.014043187628 |0000000101\\rangle + \\ldots +0.014043187628 |1111111011\\rangle+0.014043187628 |1111111100\\rangle+0.014043187628 |1111111101\\rangle+0.014043187628 |1111111110\\rangle+0.014043187628 |1111111111\\rangle$$"
      ],
      "text/plain": [
       "<IPython.core.display.Latex object>"
      ]
     },
     "metadata": {},
     "output_type": "display_data"
    },
    {
     "data": {
      "text/plain": [
       "'applied D operator to |ψ2⟩'"
      ]
     },
     "metadata": {},
     "output_type": "display_data"
    },
    {
     "data": {
      "text/latex": [
       "$$0.011520196125 |0000000000\\rangle+0.011520196125 |0000000001\\rangle+0.011520196125 |0000000010\\rangle+0.011520196125 |0000000011\\rangle+0.011520196125 |0000000100\\rangle+0.011520196125 |0000000101\\rangle + \\ldots +0.011520196125 |1111111011\\rangle+0.011520196125 |1111111100\\rangle+0.011520196125 |1111111101\\rangle+0.011520196125 |1111111110\\rangle+0.011520196125 |1111111111\\rangle$$"
      ],
      "text/plain": [
       "<IPython.core.display.Latex object>"
      ]
     },
     "metadata": {},
     "output_type": "display_data"
    },
    {
     "name": "stdout",
     "output_type": "stream",
     "text": [
      "coherence of |ψ2⟩ =  170.3075883589982\n",
      "l1 norm =  170.3075883589982\n",
      "relative entropy =  5.125069402400804\n",
      "-------- 14  ITERATION--------\n"
     ]
    },
    {
     "data": {
      "text/plain": [
       "'applied O operator to |ψ2⟩'"
      ]
     },
     "metadata": {},
     "output_type": "display_data"
    },
    {
     "data": {
      "text/latex": [
       "$$0.011520196125 |0000000000\\rangle+0.011520196125 |0000000001\\rangle+0.011520196125 |0000000010\\rangle+0.011520196125 |0000000011\\rangle+0.011520196125 |0000000100\\rangle+0.011520196125 |0000000101\\rangle + \\ldots +0.011520196125 |1111111011\\rangle+0.011520196125 |1111111100\\rangle+0.011520196125 |1111111101\\rangle+0.011520196125 |1111111110\\rangle+0.011520196125 |1111111111\\rangle$$"
      ],
      "text/plain": [
       "<IPython.core.display.Latex object>"
      ]
     },
     "metadata": {},
     "output_type": "display_data"
    },
    {
     "data": {
      "text/plain": [
       "'applied D operator to |ψ2⟩'"
      ]
     },
     "metadata": {},
     "output_type": "display_data"
    },
    {
     "data": {
      "text/latex": [
       "$$0.008907203089 |0000000000\\rangle+0.008907203089 |0000000001\\rangle+0.008907203089 |0000000010\\rangle+0.008907203089 |0000000011\\rangle+0.008907203089 |0000000100\\rangle+0.008907203089 |0000000101\\rangle + \\ldots +0.008907203089 |1111111011\\rangle+0.008907203089 |1111111100\\rangle+0.008907203089 |1111111101\\rangle+0.008907203089 |1111111110\\rangle+0.008907203089 |1111111111\\rangle$$"
      ],
      "text/plain": [
       "<IPython.core.display.Latex object>"
      ]
     },
     "metadata": {},
     "output_type": "display_data"
    },
    {
     "name": "stdout",
     "output_type": "stream",
     "text": [
      "coherence of |ψ2⟩ =  108.38709144689862\n",
      "l1 norm =  108.38709144689862\n",
      "relative entropy =  4.713853436930317\n",
      "-------- 15  ITERATION--------\n"
     ]
    },
    {
     "data": {
      "text/plain": [
       "'applied O operator to |ψ2⟩'"
      ]
     },
     "metadata": {},
     "output_type": "display_data"
    },
    {
     "data": {
      "text/latex": [
       "$$0.008907203089 |0000000000\\rangle+0.008907203089 |0000000001\\rangle+0.008907203089 |0000000010\\rangle+0.008907203089 |0000000011\\rangle+0.008907203089 |0000000100\\rangle+0.008907203089 |0000000101\\rangle + \\ldots +0.008907203089 |1111111011\\rangle+0.008907203089 |1111111100\\rangle+0.008907203089 |1111111101\\rangle+0.008907203089 |1111111110\\rangle+0.008907203089 |1111111111\\rangle$$"
      ],
      "text/plain": [
       "<IPython.core.display.Latex object>"
      ]
     },
     "metadata": {},
     "output_type": "display_data"
    },
    {
     "data": {
      "text/plain": [
       "'applied D operator to |ψ2⟩'"
      ]
     },
     "metadata": {},
     "output_type": "display_data"
    },
    {
     "data": {
      "text/latex": [
       "$$0.006224622529 |0000000000\\rangle+0.006224622529 |0000000001\\rangle+0.006224622529 |0000000010\\rangle+0.006224622529 |0000000011\\rangle+0.006224622529 |0000000100\\rangle+0.006224622529 |0000000101\\rangle + \\ldots +0.006224622529 |1111111011\\rangle+0.006224622529 |1111111100\\rangle+0.006224622529 |1111111101\\rangle+0.006224622529 |1111111110\\rangle+0.006224622529 |1111111111\\rangle$$"
      ],
      "text/plain": [
       "<IPython.core.display.Latex object>"
      ]
     },
     "metadata": {},
     "output_type": "display_data"
    },
    {
     "name": "stdout",
     "output_type": "stream",
     "text": [
      "coherence of |ψ2⟩ =  59.02367437885484\n",
      "l1 norm =  59.02367437885484\n",
      "relative entropy =  4.387772092845871\n"
     ]
    }
   ],
   "source": [
    "def iteration(i,a):\n",
    "    qc.barrier()\n",
    "    #count = i*2\n",
    "    copy_i = i    #storing copy of iteration number\n",
    "    copy_a = a    #storing copy of phi value\n",
    "    \n",
    "    #applying O operator\n",
    "    qc.append(O_operator,length)\n",
    "    result = execute(qc, backend).result()\n",
    "    state = result.get_statevector()\n",
    "    display(\"applied O operator to |ψ2⟩\", state.draw('latex'))\n",
    "    \n",
    "    #Applying D operator\n",
    "    qc.append(D_operator,length)\n",
    "    result = execute(qc, backend).result()\n",
    "    state = result.get_statevector()\n",
    "    display(\"applied D operator to |ψ2⟩\", state.draw('latex'))\n",
    "    density_operator = state.to_operator()\n",
    "    \n",
    "    #calculating coherence by l1 norm\n",
    "    coherence = 0\n",
    "    for i in range(N):\n",
    "        for j in range(N):\n",
    "            if(i != j):\n",
    "                coherence += abs(density_operator.data[i,j])\n",
    "    print(\"coherence of |ψ2⟩ = \",coherence)\n",
    "    l1[copy_i] = coherence\n",
    "    print(\"l1 norm = \",coherence)\n",
    "    \n",
    "    #calculating coherence by relative entropy\n",
    "    j = copy_i+1   #to store the actual iteration number \n",
    "    alpha = 2*np.arctan(np.sqrt(t/(N-t)))\n",
    "    alpha_j = (j+1/2.0)*alpha    \n",
    "    a = np.sin(alpha_j)\n",
    "    a_2 = a**2\n",
    "    H = -(a_2*math.log2(a_2)+(1-a_2)*math.log2(1-a_2))\n",
    "    Cr = H+math.log2(N-j)+a_2*math.log2(j/(N-j))\n",
    "    S[copy_i] = Cr\n",
    "    print(\"relative entropy = \",Cr)\n",
    "    \n",
    "    #calculating success probability\n",
    "    P[copy_i] = np.sin(alpha_j)**2\n",
    "    \n",
    "for a in range(len(phi)):\n",
    "    print(\"======================================== FOR ϕ = \", phi[a]*180/np.pi,\"========================================\")\n",
    "    qc = QuantumCircuit(n)\n",
    "    backend = Aer.get_backend('statevector_simulator')\n",
    "    result = execute(qc, backend).result()\n",
    "    state = result.get_statevector()\n",
    "    display(\"initialised |ψ0⟩\", state.draw('latex'))\n",
    "    density_operator = state.to_operator()\n",
    "    #print(density_operator.data)\n",
    "    coherence = 0\n",
    "    for i in range(N):\n",
    "        for j in range(N):\n",
    "            if(i != j):\n",
    "                coherence += abs(density_operator.data[i,j])\n",
    "    print(\"coherence of |ψ0⟩ = \",coherence)\n",
    "\n",
    "    qc.h(length)\n",
    "    result = execute(qc, backend).result()\n",
    "    state = result.get_statevector()\n",
    "    display(\"applied Hadamard to all |ψ1⟩\", state.draw('latex'))\n",
    "    density_operator = state.to_operator()\n",
    "    #print(density_operator.data)\n",
    "    coherence = 0\n",
    "    for i in range(N):\n",
    "        for j in range(N):\n",
    "            if(i != j):\n",
    "                coherence += abs(density_operator.data[i,j])\n",
    "    print(\"coherence of |ψ1⟩ = \",coherence)\n",
    "\n",
    "    #defining generalised O Operator\n",
    "    count = 0\n",
    "    choice = a\n",
    "    O_operator = Operator(np.zeros((N,N)))\n",
    "    for i in range(N):\n",
    "        for j in range(N):\n",
    "            if(i != j):   #off diagonal elements\n",
    "                O_operator.data[i][j] = 0\n",
    "            else:    #diagonal elements\n",
    "                flag = 0\n",
    "                for k in range(t):\n",
    "                    if(i == target[k]):\n",
    "                        O_operator.data[i][j] = x[choice]\n",
    "                        count += 1\n",
    "                        flag = 1\n",
    "                        break\n",
    "                if(flag == 0):\n",
    "                    O_operator.data[i][j] = 1            \n",
    "   \n",
    "    #defining D operator\n",
    "    D_operator = Operator(np.zeros((N,N)))\n",
    "    for i in range(N):\n",
    "        for j in range(N):\n",
    "            if(i == j):    #for diagonal elements\n",
    "                D_operator.data[i][j] = 2*density_operator.data[i][j]-1\n",
    "            else:          #for off-diagonal elements\n",
    "                D_operator.data[i][j] = 2*density_operator.data[i][j]\n",
    "    \n",
    "    #sending out for x iterations of grover's operator\n",
    "    for i in range(noi):\n",
    "        print(\"--------\",(i+1),\" ITERATION--------\")\n",
    "        iteration(i,a)    #a takes angle phi and i takes noi"
   ]
  },
  {
   "cell_type": "code",
   "execution_count": 29,
   "id": "fd1f8d7d",
   "metadata": {},
   "outputs": [
    {
     "name": "stdout",
     "output_type": "stream",
     "text": [
      "l1 =  [0.9912261962890625, 0.9680776605382563, 0.9302998091422395, 0.8790708941139105, 0.8159886923356032, 0.7430206723642603, 0.6624426312058698, 0.5767677145717454, 0.4886680344000288, 0.40089132856224596, 0.31617526160298676, 0.23716203997151677, 0.16631600425683418, 0.10584676899111194, 0.05764030701060043]\n",
      "S_N =  [0.009717611858112409, 0.00961213799288576, 0.009434826200493582, 0.009183929130191925, 0.008862026432798327, 0.008475241636851134, 0.008032742257609658, 0.007546329586178973, 0.007030051367216075, 0.006499819335371898, 0.005973037205390259, 0.005468262660254364, 0.005004950588282035, 0.004603372497002263, 0.004284933684419796]\n",
      "P =  [0.01748669 0.04806935 0.09274725 0.15012695 0.21841883 0.29549293\n",
      " 0.3789454  0.46617343 0.55445648 0.64104108 0.72322677 0.79845024\n",
      " 0.86436535 0.91891629 0.96040166]\n"
     ]
    },
    {
     "data": {
      "image/png": "[encoded data removed]",
      "text/plain": [
       "<Figure size 640x480 with 2 Axes>"
      ]
     },
     "metadata": {},
     "output_type": "display_data"
    }
   ],
   "source": [
    "l1_N = [a/N for a in l1]\n",
    "S_N  = [a/N for a in S]\n",
    "xa   = [a+1 for a in x_axis]\n",
    "\n",
    "print(\"l1 = \",l1_N)\n",
    "print(\"S_N = \",S_N)\n",
    "print(\"P = \",P)\n",
    "\n",
    "fig, ax1 = pl.subplots()\n",
    "pl.title(\"n = {} and t = {}\".format(n, t))\n",
    "color1 = 'tab:red'\n",
    "color2 = 'black'\n",
    "ax1.set_xlabel('----Number of iterations----')\n",
    "ax1.scatter(xa, l1_N, marker='d', color=color1, label='l1_norm/N')\n",
    "ax1.plot(xa, l1_N, color=color1)\n",
    "ax1.scatter(xa, P, color=color2, label='success probability')\n",
    "ax1.plot(xa, P, color=color2)\n",
    "pl.legend()\n",
    "ax1.set_ylabel(\"l1 norm and success probability\")\n",
    "pl.grid(True)\n",
    "\n",
    "ax2 = ax1.twinx()\n",
    "color = 'tab:blue'\n",
    "ax2.scatter(xa, S_N, color=color, label='S/N')\n",
    "ax2.plot(xa, S_N, color=color)\n",
    "pl.legend()\n",
    "ax2.set_ylabel('relatove entropy', color=color)\n",
    "ax2.tick_params(axis='y', labelcolor=color)\n",
    "\n",
    "fig.tight_layout()\n",
    "#pl.grid(True)\n",
    "pl.show()"
   ]
  },
  {
   "cell_type": "code",
   "execution_count": null,
   "id": "0019a01e",
   "metadata": {},
   "outputs": [],
   "source": []
  }
 ],
 "metadata": {
  "kernelspec": {
   "display_name": "Python 3 (ipykernel)",
   "language": "python",
   "name": "python3"
  },
  "language_info": {
   "codemirror_mode": {
    "name": "ipython",
    "version": 3
   },
   "file_extension": ".py",
   "mimetype": "text/x-python",
   "name": "python",
   "nbconvert_exporter": "python",
   "pygments_lexer": "ipython3",
   "version": "3.9.13"
  }
 },
 "nbformat": 4,
 "nbformat_minor": 5
}
